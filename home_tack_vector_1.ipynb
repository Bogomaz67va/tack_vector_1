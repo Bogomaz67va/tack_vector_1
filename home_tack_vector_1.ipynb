{
 "cells": [
  {
   "cell_type": "code",
   "execution_count": 2,
   "id": "1dd77589",
   "metadata": {},
   "outputs": [],
   "source": [
    "# Домашнее задание \"Линейная алгебра. Векторы\"."
   ]
  },
  {
   "cell_type": "code",
   "execution_count": 4,
   "id": "a6e71c43",
   "metadata": {},
   "outputs": [],
   "source": [
    "# Даны вектора x = (1,1), y = (2, 0) и z = (0,2)\n",
    "# Надо:\n",
    "# * Изобразить вектора на экране\n",
    "# * Изобразить точку x + y + z\n",
    "# * Найти угол между векторами x и y"
   ]
  },
  {
   "cell_type": "code",
   "execution_count": 6,
   "id": "4524ef4e",
   "metadata": {},
   "outputs": [],
   "source": [
    "import numpy as np\n",
    "import matplotlib.pyplot as plt"
   ]
  },
  {
   "cell_type": "code",
   "execution_count": 7,
   "id": "0f957d43",
   "metadata": {},
   "outputs": [],
   "source": [
    "x = ([1, 1])\n",
    "y = ([2, 0])\n",
    "z = ([0, 2])"
   ]
  },
  {
   "cell_type": "code",
   "execution_count": 9,
   "id": "d7c2e5d1",
   "metadata": {},
   "outputs": [],
   "source": [
    "# Изобразить вектора на экране"
   ]
  },
  {
   "cell_type": "code",
   "execution_count": 11,
   "id": "e71ea102",
   "metadata": {},
   "outputs": [],
   "source": [
    "def vector_picture(*args):\n",
    "    plt.figure()\n",
    "    for v in args:\n",
    "        plt.plot(v[0], v[1], 'o')\n",
    "    plt.grid()"
   ]
  },
  {
   "cell_type": "code",
   "execution_count": 13,
   "id": "1c9d31dd",
   "metadata": {},
   "outputs": [
    {
     "data": {
      "image/png": "[encoded data removed]",
      "text/plain": [
       "<Figure size 432x288 with 1 Axes>"
      ]
     },
     "metadata": {
      "needs_background": "light"
     },
     "output_type": "display_data"
    }
   ],
   "source": [
    "vector_picture(x, y, z)"
   ]
  },
  {
   "cell_type": "code",
   "execution_count": 15,
   "id": "52d65430",
   "metadata": {},
   "outputs": [],
   "source": [
    "# Изобразить точку x + y + z"
   ]
  },
  {
   "cell_type": "code",
   "execution_count": 17,
   "id": "065449c5",
   "metadata": {},
   "outputs": [],
   "source": [
    "s = x + y + z"
   ]
  },
  {
   "cell_type": "code",
   "execution_count": 19,
   "id": "894c2800",
   "metadata": {},
   "outputs": [],
   "source": [
    "def vector_picture_sum(sum_vectors):\n",
    "    plt.figure()\n",
    "    for v in sum_vectors:\n",
    "        plt.plot(v, 'o')\n",
    "    plt.grid()"
   ]
  },
  {
   "cell_type": "code",
   "execution_count": 21,
   "id": "a8ec382e",
   "metadata": {},
   "outputs": [
    {
     "data": {
      "image/png": "[encoded data removed]",
      "text/plain": [
       "<Figure size 432x288 with 1 Axes>"
      ]
     },
     "metadata": {
      "needs_background": "light"
     },
     "output_type": "display_data"
    }
   ],
   "source": [
    "vector_picture_sum(s)"
   ]
  },
  {
   "cell_type": "code",
   "execution_count": 22,
   "id": "e175e1a7",
   "metadata": {},
   "outputs": [],
   "source": [
    "# Найти угол между векторами x и y"
   ]
  },
  {
   "cell_type": "code",
   "execution_count": 24,
   "id": "494d16d2",
   "metadata": {},
   "outputs": [],
   "source": [
    "angle = np.dot(x, y) / (np.linalg.norm(x) * np.linalg.norm(y))"
   ]
  },
  {
   "cell_type": "code",
   "execution_count": 26,
   "id": "ed713068",
   "metadata": {},
   "outputs": [
    {
     "data": {
      "text/plain": [
       "45.0"
      ]
     },
     "execution_count": 26,
     "metadata": {},
     "output_type": "execute_result"
    }
   ],
   "source": [
    "round(np.rad2deg(np.arccos(angle)), 1)"
   ]
  },
  {
   "cell_type": "code",
   "execution_count": null,
   "id": "20164f15",
   "metadata": {},
   "outputs": [],
   "source": []
  }
 ],
 "metadata": {
  "kernelspec": {
   "display_name": "Python 3 (ipykernel)",
   "language": "python",
   "name": "python3"
  },
  "language_info": {
   "codemirror_mode": {
    "name": "ipython",
    "version": 3
   },
   "file_extension": ".py",
   "mimetype": "text/x-python",
   "name": "python",
   "nbconvert_exporter": "python",
   "pygments_lexer": "ipython3",
   "version": "3.9.1"
  }
 },
 "nbformat": 4,
 "nbformat_minor": 5
}
